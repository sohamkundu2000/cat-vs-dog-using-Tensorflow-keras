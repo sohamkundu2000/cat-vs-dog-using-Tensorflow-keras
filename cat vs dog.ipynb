{
 "cells": [
  {
   "cell_type": "code",
   "execution_count": 1,
   "metadata": {},
   "outputs": [],
   "source": [
    "import tensorflow as tf\n",
    "import os\n",
    "import matplotlib.pyplot as plt\n",
    "import numpy as np\n",
    "import tensorflow.keras.preprocessing.image as img"
   ]
  },
  {
   "cell_type": "code",
   "execution_count": 2,
   "metadata": {},
   "outputs": [
    {
     "name": "stdout",
     "output_type": "stream",
     "text": [
      "Found 23000 images belonging to 2 classes.\n",
      "Found 0 images belonging to 0 classes.\n"
     ]
    }
   ],
   "source": [
    "train=img.ImageDataGenerator(rescale=1/255)\n",
    "test=img.ImageDataGenerator(rescale=1/255)\n",
    "\n",
    "path1=r\"C:\\Users\\Soham\\Desktop\\dataset\\dogscats\\train\"\n",
    "train=train.flow_from_directory(path1,\n",
    "                                 target_size=(64,64),\n",
    "                                batch_size=100,\n",
    "                               class_mode='binary')\n",
    "\n",
    "path2=r\"C:\\Users\\Soham\\Desktop\\dataset\\dogscats\\test1\"\n",
    "test=test.flow_from_directory(path2,\n",
    "                             target_size=(64,64),\n",
    "                              class_mode=None\n",
    "                              \n",
    "                             )"
   ]
  },
  {
   "cell_type": "code",
   "execution_count": 3,
   "metadata": {},
   "outputs": [
    {
     "name": "stdout",
     "output_type": "stream",
     "text": [
      "{'cats': 0, 'dogs': 1}\n"
     ]
    }
   ],
   "source": [
    "print(train.class_indices)"
   ]
  },
  {
   "cell_type": "code",
   "execution_count": 4,
   "metadata": {},
   "outputs": [
    {
     "name": "stdout",
     "output_type": "stream",
     "text": [
      "Epoch 1/20\n",
      "230/230 [==============================] - 413s 2s/step - loss: 0.6662 - accuracy: 0.5893\n",
      "Epoch 2/20\n",
      "230/230 [==============================] - 246s 1s/step - loss: 0.6074 - accuracy: 0.6669\n",
      "Epoch 3/20\n",
      "230/230 [==============================] - 221s 959ms/step - loss: 0.5692 - accuracy: 0.7063\n",
      "Epoch 4/20\n",
      "230/230 [==============================] - 162s 702ms/step - loss: 0.5431 - accuracy: 0.7266\n",
      "Epoch 5/20\n",
      "230/230 [==============================] - 209s 908ms/step - loss: 0.5136 - accuracy: 0.7476\n",
      "Epoch 6/20\n",
      "230/230 [==============================] - 106s 460ms/step - loss: 0.4766 - accuracy: 0.7720\n",
      "Epoch 7/20\n",
      "230/230 [==============================] - 62s 271ms/step - loss: 0.4537 - accuracy: 0.7864\n",
      "Epoch 8/20\n",
      "230/230 [==============================] - 62s 271ms/step - loss: 0.4187 - accuracy: 0.8068\n",
      "Epoch 9/20\n",
      "230/230 [==============================] - 62s 271ms/step - loss: 0.3933 - accuracy: 0.8252\n",
      "Epoch 10/20\n",
      "230/230 [==============================] - 64s 277ms/step - loss: 0.3706 - accuracy: 0.8336\n",
      "Epoch 11/20\n",
      "230/230 [==============================] - 63s 275ms/step - loss: 0.3403 - accuracy: 0.8514\n",
      "Epoch 12/20\n",
      "230/230 [==============================] - 63s 274ms/step - loss: 0.3198 - accuracy: 0.8618\n",
      "Epoch 13/20\n",
      "230/230 [==============================] - 63s 273ms/step - loss: 0.3093 - accuracy: 0.8655\n",
      "Epoch 14/20\n",
      "230/230 [==============================] - 63s 274ms/step - loss: 0.2841 - accuracy: 0.8809\n",
      "Epoch 15/20\n",
      "230/230 [==============================] - 63s 275ms/step - loss: 0.2576 - accuracy: 0.8923\n",
      "Epoch 16/20\n",
      "230/230 [==============================] - 62s 269ms/step - loss: 0.2328 - accuracy: 0.9028\n",
      "Epoch 17/20\n",
      "230/230 [==============================] - 62s 270ms/step - loss: 0.2254 - accuracy: 0.9054\n",
      "Epoch 18/20\n",
      "230/230 [==============================] - 61s 266ms/step - loss: 0.2042 - accuracy: 0.9172\n",
      "Epoch 19/20\n",
      "230/230 [==============================] - 61s 265ms/step - loss: 0.1983 - accuracy: 0.9177\n",
      "Epoch 20/20\n",
      "230/230 [==============================] - 61s 265ms/step - loss: 0.1768 - accuracy: 0.9277\n"
     ]
    }
   ],
   "source": [
    "model=tf.keras.models.Sequential()\n",
    "model.add(tf.keras.layers.Conv2D(filters=32,kernel_size=(7,7),strides=(2,2),padding='valid',activation='relu',input_shape=(64,64,3)))\n",
    "model.add(tf.keras.layers.MaxPooling2D(pool_size=(3,3)))\n",
    "\n",
    "model.add(tf.keras.layers.Conv2D(filters=64,kernel_size=(5,5),strides=(2,2),padding='valid',activation='relu'))\n",
    "model.add(tf.keras.layers.MaxPooling2D(pool_size=(3,3)))\n",
    "\n",
    "model.add(tf.keras.layers.Flatten())\n",
    "model.add(tf.keras.layers.Dense(64,activation='relu'))\n",
    "model.add(tf.keras.layers.Dense(1,activation='sigmoid'))\n",
    "\n",
    "model.compile(loss='binary_crossentropy',optimizer='adam',metrics='accuracy')\n",
    "          \n",
    "model.fit(train,epochs=20)\n",
    "model.save('my_model.h5')"
   ]
  },
  {
   "cell_type": "code",
   "execution_count": 10,
   "metadata": {},
   "outputs": [
    {
     "name": "stdout",
     "output_type": "stream",
     "text": [
      "Model: \"sequential\"\n",
      "_________________________________________________________________\n",
      "Layer (type)                 Output Shape              Param #   \n",
      "=================================================================\n",
      "conv2d (Conv2D)              (None, 29, 29, 32)        4736      \n",
      "_________________________________________________________________\n",
      "max_pooling2d (MaxPooling2D) (None, 9, 9, 32)          0         \n",
      "_________________________________________________________________\n",
      "conv2d_1 (Conv2D)            (None, 3, 3, 64)          51264     \n",
      "_________________________________________________________________\n",
      "max_pooling2d_1 (MaxPooling2 (None, 1, 1, 64)          0         \n",
      "_________________________________________________________________\n",
      "flatten (Flatten)            (None, 64)                0         \n",
      "_________________________________________________________________\n",
      "dense (Dense)                (None, 64)                4160      \n",
      "_________________________________________________________________\n",
      "dense_1 (Dense)              (None, 1)                 65        \n",
      "=================================================================\n",
      "Total params: 60,225\n",
      "Trainable params: 60,225\n",
      "Non-trainable params: 0\n",
      "_________________________________________________________________\n"
     ]
    }
   ],
   "source": [
    "new_model=tf.keras.models.load_model('my_model.h5')\n",
    "new_model.summary()\n",
    "\n"
   ]
  },
  {
   "cell_type": "code",
   "execution_count": 11,
   "metadata": {
    "scrolled": true
   },
   "outputs": [
    {
     "data": {
      "text/plain": [
       "<matplotlib.image.AxesImage at 0x16bcdc9f130>"
      ]
     },
     "execution_count": 11,
     "metadata": {},
     "output_type": "execute_result"
    },
    {
     "data": {
      "image/png": "[encoded data removed]",
      "text/plain": [
       "<Figure size 432x288 with 1 Axes>"
      ]
     },
     "metadata": {
      "needs_background": "light"
     },
     "output_type": "display_data"
    }
   ],
   "source": [
    "path=r\"C:\\Users\\Soham\\Desktop\\dataset\\dogscats\\test1\\1049.jpg\"\n",
    "test_img=img.load_img(path,target_size=(64,64))\n",
    "plt.imshow(test_img)"
   ]
  },
  {
   "cell_type": "code",
   "execution_count": 12,
   "metadata": {},
   "outputs": [
    {
     "name": "stdout",
     "output_type": "stream",
     "text": [
      "(64, 64, 3)\n",
      "(1, 64, 64, 3)\n",
      "(1, 1)\n",
      "0.0\n",
      "cat\n"
     ]
    }
   ],
   "source": [
    "test=img.img_to_array(test_img)\n",
    "print(test.shape)\n",
    "test=np.expand_dims(test,axis=0)\n",
    "print(test.shape)\n",
    "result=new_model.predict(test)\n",
    "print(result.shape)\n",
    "print(result[0][0])\n",
    "\n",
    "if(result[0][0]==0):\n",
    "    print(\"cat\")\n",
    "if(result[0][0]==1):\n",
    "    print(\"dog\")\n",
    "\n"
   ]
  },
  {
   "cell_type": "code",
   "execution_count": 26,
   "metadata": {},
   "outputs": [
    {
     "data": {
      "text/plain": [
       "<matplotlib.image.AxesImage at 0x16bcdf93df0>"
      ]
     },
     "execution_count": 26,
     "metadata": {},
     "output_type": "execute_result"
    },
    {
     "data": {
      "image/png": "[encoded data removed]",
      "text/plain": [
       "<Figure size 432x288 with 1 Axes>"
      ]
     },
     "metadata": {
      "needs_background": "light"
     },
     "output_type": "display_data"
    }
   ],
   "source": [
    "path=r\"C:\\Users\\Soham\\Desktop\\dataset\\digits\\7.png\"\n",
    "test_img=img.load_img(path,target_size=(64,64))\n",
    "plt.imshow(test_img)"
   ]
  },
  {
   "cell_type": "code",
   "execution_count": 28,
   "metadata": {},
   "outputs": [
    {
     "name": "stdout",
     "output_type": "stream",
     "text": [
      "(64, 64, 3)\n",
      "(1, 64, 64, 3)\n",
      "(1, 1)\n",
      "1.0\n",
      "dog\n"
     ]
    }
   ],
   "source": [
    "test=img.img_to_array(test_img)\n",
    "print(test.shape)\n",
    "test=np.expand_dims(test,axis=0)\n",
    "print(test.shape)\n",
    "result=new_model.predict(test)\n",
    "print(result.shape)\n",
    "print(result[0][0])\n",
    "\n",
    "if(result[0][0]==0):\n",
    "    print(\"cat\")\n",
    "if(result[0][0]==1):\n",
    "    print(\"dog\")\n",
    "\n"
   ]
  },
  {
   "cell_type": "code",
   "execution_count": null,
   "metadata": {},
   "outputs": [],
   "source": []
  },
  {
   "cell_type": "code",
   "execution_count": null,
   "metadata": {},
   "outputs": [],
   "source": []
  },
  {
   "cell_type": "code",
   "execution_count": null,
   "metadata": {},
   "outputs": [],
   "source": []
  }
 ],
 "metadata": {
  "kernelspec": {
   "display_name": "Python 3",
   "language": "python",
   "name": "python3"
  },
  "language_info": {
   "codemirror_mode": {
    "name": "ipython",
    "version": 3
   },
   "file_extension": ".py",
   "mimetype": "text/x-python",
   "name": "python",
   "nbconvert_exporter": "python",
   "pygments_lexer": "ipython3",
   "version": "3.8.2"
  }
 },
 "nbformat": 4,
 "nbformat_minor": 4
}
